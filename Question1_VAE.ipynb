{
  "cells": [
    {
      "cell_type": "code",
      "execution_count": null,
      "metadata": {
        "id": "ds_udR4dQ96D"
      },
      "outputs": [],
      "source": [
        "import numpy as np\n",
        "import matplotlib.pyplot as plt\n",
        "import tensorflow as tf\n",
        "tf.compat.v1.disable_eager_execution()"
      ]
    },
    {
      "attachments": {},
      "cell_type": "markdown",
      "metadata": {},
      "source": [
        "# Loading the data\n",
        "data is loaded and then normalized to have values between 0 and 1. We only need one channel for the images, so we will convert the images to grayscale."
      ]
    },
    {
      "cell_type": "code",
      "execution_count": null,
      "metadata": {
        "id": "GEvuSc1CqTXl"
      },
      "outputs": [],
      "source": [
        "from keras.datasets import mnist\n",
        "(x_train,y_train),(x_test,y_test)=mnist.load_data()"
      ]
    },
    {
      "cell_type": "code",
      "execution_count": null,
      "metadata": {
        "id": "V_SCXMSmqtfB"
      },
      "outputs": [],
      "source": [
        "x_train = np.expand_dims(x_train,axis=-1)  #expanding dimesnion\n",
        "x_test = np.expand_dims(x_test,axis=-1) #expanding dimesnion\n",
        "x_train=x_train.astype('float32')/255  #Normalization\n",
        "x_test=x_test.astype('float32')/255 #Normalization\n",
        "y_train=y_train.astype('float32')\n",
        "\n",
        "print(x_train.shape)"
      ]
    },
    {
      "attachments": {},
      "cell_type": "markdown",
      "metadata": {
        "id": "6JRuMjsvrRpE"
      },
      "source": [
        "# Varitional Auto Encoder (VAE)\n",
        "The following link provides a good high level explanation of VAEs:[VAE explanation](https://towardsdatascience.com/understanding-generative-adversarial-networks-gans-cd6e4651a29) <br>\n",
        "\n",
        "\n"
      ]
    },
    {
      "cell_type": "code",
      "execution_count": null,
      "metadata": {
        "id": "B0Hm0DaXr-co"
      },
      "outputs": [],
      "source": [
        "from keras.models import Model,Sequential\n",
        "from keras.layers import Input,Dense,Conv2D,Flatten,ReLU,Dropout,UpSampling2D,Embedding,Concatenate,Conv2DTranspose\n",
        "from keras.layers import Reshape,MaxPool2D\n",
        "#from keras.layers import LeakyReLU\n",
        "from keras.optimizers import Adam\n",
        "from keras import backend as bk \n",
        "from keras.layers import Lambda"
      ]
    },
    {
      "attachments": {},
      "cell_type": "markdown",
      "metadata": {},
      "source": [
        "# Encoder\n",
        "A variational autoencoder consists of two parts, the encoder and the decoder.<br>\n",
        "\n",
        "The general flow of a VAE is as follows:<br>\n",
        "$$\n",
        "x -> p(z|x) -> z -> p(x|z) -> \\hat{x},\n",
        "$$\n",
        "where x is the input data, z is the latent space, p(z|x) is the encoder, and p(x|z) is the decoder.<br>\n",
        "\n",
        "In the current code, the encoder is a deep neural network that takes the input data and outputs the mean($\\mu$) and the log of the variance($\\sigma$) of the distribution of the latent space. In order to send a sample from this distribution to the decoder, we need to sample from the distribution. This is done using the reparameterization trick:<br>\n",
        "\n",
        "$$\n",
        "Z = \\mu + \\sigma \\cdot \\epsilon,\n",
        "$$\n",
        "where  \n",
        "$$\n",
        "\\epsilon \\sim N(0,1).\n",
        "$$\n",
        "\n",
        "This reprameterization trick is also used to make the model differentiable, which is necessary for training the model using backpropagation.<br>"
      ]
    },
    {
      "cell_type": "code",
      "execution_count": null,
      "metadata": {
        "id": "ce7USSpG8i7w"
      },
      "outputs": [],
      "source": [
        "def sample(inp):\n",
        "  mu , var = inp\n",
        "  epslion = bk.random_normal(shape=(bk.shape(mu)[0],bk.shape(mu)[1]))\n",
        "  samp = mu + bk.exp(var/2)*epslion\n",
        "  return samp"
      ]
    },
    {
      "cell_type": "code",
      "execution_count": null,
      "metadata": {
        "id": "PPaProUbq7-h"
      },
      "outputs": [],
      "source": [
        "network_input = Input(shape=(28,28,1))\n",
        "\n",
        "encoder = Conv2D(16, (4,4),strides=(2,2),activation='relu',kernel_initializer='he_uniform',  padding='same')(network_input)\n",
        "encoder = Conv2D(32, (4,4),strides=(2,2),activation='relu',kernel_initializer='he_uniform',  padding='same')(encoder)\n",
        "#encoder = Conv2D(64, (4, 4),activation='relu',kernel_initializer='he_uniform',  padding='same')(encoder)\n",
        "\n",
        "encoder = Conv2D(64, (4,4),activation='relu',kernel_initializer='he_uniform',  padding='same')(encoder)\n",
        "\n",
        "encoder = Flatten()(encoder)\n",
        "encoder = Dense(32 , activation='relu')(encoder)\n",
        "\n",
        "mu_e = Dense(2)(encoder) # 2 is the latent space dimension\n",
        "var_e = Dense(2)(encoder)\n",
        "\n",
        "z = Lambda(sample,output_shape=(2,))([mu_e,var_e])\n",
        "\n",
        "encoder_network = Model(network_input,[mu_e,var_e,z])\n"
      ]
    },
    {
      "cell_type": "code",
      "execution_count": null,
      "metadata": {
        "colab": {
          "base_uri": "https://localhost:8080/"
        },
        "id": "riYdHzjI9rOT",
        "outputId": "917de9dd-2ce9-4f0a-e405-a321f5b88a4e"
      },
      "outputs": [],
      "source": [
        "encoder_network.summary()"
      ]
    },
    {
      "attachments": {},
      "cell_type": "markdown",
      "metadata": {},
      "source": [
        "# Decoder"
      ]
    },
    {
      "cell_type": "code",
      "execution_count": null,
      "metadata": {
        "id": "nMHPIFzW-NAw"
      },
      "outputs": [],
      "source": [
        "decoder_inp = Input(shape=(2,))\n",
        "\n",
        "decoder = Dense(7*7*128,activation='relu')(decoder_inp)\n",
        "decoder = Reshape((7,7,128))(decoder)\n",
        "\n",
        "decoder = Conv2DTranspose(64,(4,4),activation='relu',strides=(2,2),kernel_initializer='he_uniform',padding='same')(decoder)\n",
        "#decoder =Conv2DTranspose(64,(4, 4),activation='relu',strides=(2,2),kernel_initializer='he_uniform',padding='same')(decoder)\n",
        "decoder =Conv2DTranspose(32,(4,4),strides=(2,2),activation='relu',kernel_initializer='he_uniform',padding='same')(decoder)\n",
        "decoder =Conv2DTranspose(16,(4,4),activation='relu',kernel_initializer='he_uniform',padding='same')(decoder)\n",
        "decoder = Conv2DTranspose(1,(4,4),activation='relu',kernel_initializer='he_uniform',padding='same')(decoder)\n",
        "\n",
        "decoder_network = Model(decoder_inp,decoder)"
      ]
    },
    {
      "cell_type": "code",
      "execution_count": null,
      "metadata": {
        "colab": {
          "base_uri": "https://localhost:8080/"
        },
        "id": "_aGpwL8sAt1L",
        "outputId": "aadedd57-2e6d-481c-ac7b-0724fbcf142b"
      },
      "outputs": [],
      "source": [
        "decoder_network.summary()"
      ]
    },
    {
      "cell_type": "markdown",
      "metadata": {
        "id": "-NDdeIIACjZl"
      },
      "source": [
        "## End To End Network"
      ]
    },
    {
      "cell_type": "code",
      "execution_count": null,
      "metadata": {
        "id": "iWQ4fI3BAzJP"
      },
      "outputs": [],
      "source": [
        "encod = encoder_network(network_input)[2]\n",
        "decod = decoder_network(encod)\n",
        "vae = Model(network_input,decod)"
      ]
    },
    {
      "cell_type": "code",
      "execution_count": null,
      "metadata": {
        "colab": {
          "base_uri": "https://localhost:8080/"
        },
        "id": "_hJsEPM0C1HF",
        "outputId": "a364ba68-32e2-4197-d68e-e5dd01514ec2"
      },
      "outputs": [],
      "source": [
        "vae.summary()"
      ]
    },
    {
      "cell_type": "markdown",
      "metadata": {
        "id": "XtcyMaIPA4YM"
      },
      "source": [
        "## Loss function"
      ]
    },
    {
      "attachments": {},
      "cell_type": "markdown",
      "metadata": {},
      "source": [
        "$$\n",
        "Final loss = Reconstruction loss + Reularization term (KL divergence loss)\n",
        "$$\n",
        "Regularization term is the KL divergence loss between the distribution of the latent space and the standard normal distribution. This term is used to ensure that the distribution of the latent space is close to a standard normal distribution. This is done to ensure that the latent space is continuous and smooth, which is important for generating new data points.<br>\n",
        "$$\n",
        "D_{KL}(N(\\mu, \\sigma^2) || N(0,1))= -\\frac{1}{2} \\sum_{i=1}^{N} (1 + \\log(\\sigma_i^2) - \\mu_i^2 - \\sigma_i^2)\n",
        "$$\n",
        "\n",
        "For the reconstruction loss, we will use the mean squared error loss. This loss measures the difference between the $x$ and $\\hat{x}$<br>\n",
        "\n",
        "$$\n",
        "Final loss = \\frac{1}{N} \\sum_{i=1}^{N} (x_i - \\hat{x}_i)^2 + D_{KL}(N(\\mu, \\sigma^2) || N(0,1))\n",
        "$$"
      ]
    },
    {
      "cell_type": "code",
      "execution_count": null,
      "metadata": {
        "id": "-J7WL5RRa8Fj"
      },
      "outputs": [],
      "source": [
        "def network_loss(mu,var):\n",
        "  def normal_ae_loss(y_true,y_pred):\n",
        "    return tf.reduce_mean(tf.keras.metrics.mse(y_true,y_pred))*28*28\n",
        "  def kl_divergence(mu,var):\n",
        "    return 0.5*tf.reduce_mean(-1-var+tf.square(mu)+tf.exp(var))\n",
        "  def final_loss(y_true,y_pred):\n",
        "    return bk.mean(normal_ae_loss(y_true, y_pred) + kl_divergence(mu,var))\n",
        "\n",
        "  return final_loss"
      ]
    },
    {
      "attachments": {},
      "cell_type": "markdown",
      "metadata": {},
      "source": [
        "## Training"
      ]
    },
    {
      "cell_type": "code",
      "execution_count": null,
      "metadata": {
        "id": "Af9h67QaFf3U"
      },
      "outputs": [],
      "source": [
        "opt = Adam(lr = 0.0002,beta_1=0.5)\n",
        "vae.compile(loss=network_loss(mu_e, var_e), optimizer=opt)"
      ]
    },
    {
      "attachments": {},
      "cell_type": "markdown",
      "metadata": {},
      "source": [
        "The followig code is used to generate images after every 10 epochs. This code can be used to observe the evolution of the images."
      ]
    },
    {
      "cell_type": "code",
      "execution_count": null,
      "metadata": {
        "colab": {
          "base_uri": "https://localhost:8080/",
          "height": 1000
        },
        "id": "3dABaLkY7vhQ",
        "outputId": "f89199c5-b7f6-4872-ddbb-9cb4ea016be6"
      },
      "outputs": [],
      "source": [
        "for j in range(6):\n",
        "  for i in range(9):\n",
        "    plt.subplot(331+i)\n",
        "    output = vae.predict(np.array([x_test[i+500]]))\n",
        "    op_image = np.reshape(output[0]*255, (28, 28))\n",
        "    plt.imshow(op_image, cmap='gray')\n",
        "    plt.title(j*10)\n",
        "  plt.show()\n",
        "  histoy = vae.fit(x_train, x_train, epochs=10, batch_size=64, validation_split = 0.2) # استفاده از این بخش برای ترسیم خروجی دیکودر در هر 10 ایپاک"
      ]
    },
    {
      "attachments": {},
      "cell_type": "markdown",
      "metadata": {},
      "source": [
        "The following code is used to plot the loss graph (from epoch 0 to epoch 50).\n"
      ]
    },
    {
      "cell_type": "code",
      "execution_count": null,
      "metadata": {
        "colab": {
          "base_uri": "https://localhost:8080/"
        },
        "id": "spLLqoL7F4eO",
        "outputId": "9f5efb86-fe6f-4118-e6f0-e9b216e3b115"
      },
      "outputs": [],
      "source": [
        "history = vae.fit(x_train, x_train, epochs=50, batch_size=64, validation_split = 0.2) #از این بخش برای ترسیم نمودار لاس استفاده می کنیم، از بخش قبلی برای رسم کردن تصاویر خروجی دیکودر در هر 10 ایپاک "
      ]
    },
    {
      "cell_type": "code",
      "execution_count": null,
      "metadata": {
        "colab": {
          "base_uri": "https://localhost:8080/",
          "height": 284
        },
        "id": "OJaBSd4i6ifD",
        "outputId": "49f59a81-b62e-4f50-ad56-55c875dad885"
      },
      "outputs": [],
      "source": [
        "for i in range(9):\n",
        "    plt.subplot(331+i)\n",
        "    plt.imshow(x_test[500+i,:,:, -1], cmap='gray')\n",
        "plt.show()"
      ]
    },
    {
      "cell_type": "markdown",
      "metadata": {
        "id": "AzOurAnqDGcC"
      },
      "source": [
        "## Scatter plot"
      ]
    },
    {
      "cell_type": "code",
      "execution_count": null,
      "metadata": {
        "id": "ZoY8ePQ0LfX2"
      },
      "outputs": [],
      "source": [
        "import pandas as pd\n",
        "import seaborn as sns\n",
        "def my_scatterplot(x_test,y_test):\n",
        "  x = []\n",
        "  y = []\n",
        "  z = []\n",
        "  for i in range(100*100):\n",
        "    z.append(y_test[i]) #Real number coressponding to the input\n",
        "    latent_space = encoder_network.predict(np.array([x_test[i]]))[2]\n",
        "    x.append(latent_space[0][0])\n",
        "    y.append(latent_space[0][1])\n",
        "  datam = pd.DataFrame()\n",
        "  datam['x'] = x\n",
        "  datam['y'] = y\n",
        "  zz = []\n",
        "  for j in z:\n",
        "    zz.append(str(j))\n",
        "  datam['z'] = zz\n",
        "\n",
        "  plt.figure(figsize=(8,8))\n",
        "  sns.scatterplot(x='x', y='y', hue='z', data=datam)\n",
        "  plt.show()\n",
        "  return x,y"
      ]
    },
    {
      "cell_type": "code",
      "execution_count": null,
      "metadata": {
        "colab": {
          "base_uri": "https://localhost:8080/",
          "height": 551
        },
        "id": "8-FPMeofXDrG",
        "outputId": "6e1438e2-6ad7-410c-c8ce-acce1a28cfd7"
      },
      "outputs": [],
      "source": [
        "z1,z2 = my_scatterplot(x_test,y_test)"
      ]
    },
    {
      "cell_type": "code",
      "execution_count": null,
      "metadata": {
        "colab": {
          "base_uri": "https://localhost:8080/"
        },
        "id": "g2fRRvQ2s_e2",
        "outputId": "7e61ab30-5248-466c-df18-68fc5c6d8342"
      },
      "outputs": [],
      "source": [
        "print(max(z1))\n",
        "print(min(z1))\n",
        "print(\"___________\")\n",
        "print(max(z2))\n",
        "print(min(z2))"
      ]
    },
    {
      "cell_type": "markdown",
      "metadata": {
        "id": "JhTyr7jBDQiU"
      },
      "source": [
        "## output of VAE Network"
      ]
    },
    {
      "cell_type": "code",
      "execution_count": null,
      "metadata": {
        "colab": {
          "base_uri": "https://localhost:8080/",
          "height": 921
        },
        "id": "jmW1UEKrJVef",
        "outputId": "f99396f1-f99c-4c5f-d2f4-06810141bccb"
      },
      "outputs": [],
      "source": [
        "x_values = np.linspace(-3, 3, 30)\n",
        "y_values = np.linspace(-3, 3, 30)\n",
        "finalimg = np.zeros((28 * 30, 28 * 30))\n",
        "for ix in range(len(x_values)):\n",
        "    for iy in range(len(y_values)):\n",
        "        latent_point = np.array([[x_values[ix], y_values[iy]]])\n",
        "        network_out = decoder_network.predict(latent_point)[0]\n",
        "        finalimg[ix*28:(ix+1)*28, iy*28:(iy+1)*28,] = network_out[:,:,-1]\n",
        " \n",
        "plt.figure(figsize=(15, 15))\n",
        "plt.imshow(finalimg, cmap='gray', extent=[3,-3,3,-3])\n",
        "plt.show()"
      ]
    },
    {
      "cell_type": "markdown",
      "metadata": {
        "id": "v5TSjnICDavh"
      },
      "source": [
        "## loss plot"
      ]
    },
    {
      "cell_type": "code",
      "execution_count": null,
      "metadata": {
        "id": "cyz3M1bJRXtk"
      },
      "outputs": [],
      "source": [
        "def plot_loss(history):\n",
        "  plt.plot(history.history['loss'],label='train_loss')\n",
        "  plt.plot(history.history['val_loss'],label='val_loss')\n",
        "  plt.xlabel('Epoch')\n",
        "  plt.ylabel('Loss')\n",
        "  plt.legend()\n",
        "  plt.grid()"
      ]
    },
    {
      "cell_type": "code",
      "execution_count": null,
      "metadata": {
        "colab": {
          "base_uri": "https://localhost:8080/",
          "height": 279
        },
        "id": "LA6RO3-HRZmu",
        "outputId": "0fa703d1-baad-464d-b7cc-8dcb9363ce10"
      },
      "outputs": [],
      "source": [
        "plot_loss(history)"
      ]
    },
    {
      "attachments": {},
      "cell_type": "markdown",
      "metadata": {},
      "source": [
        "# Conditional Variational Auto Encoder (CVAE)"
      ]
    },
    {
      "attachments": {},
      "cell_type": "markdown",
      "metadata": {},
      "source": [
        "This network is similar to the previous network, with the difference that the labels are also given as input to the network."
      ]
    },
    {
      "cell_type": "code",
      "execution_count": null,
      "metadata": {
        "id": "05NfkLXPqGwy"
      },
      "outputs": [],
      "source": [
        "from keras.utils import to_categorical\n",
        "y_train = to_categorical(y_train)\n",
        "y_test = to_categorical(y_test)\n",
        "y_train=y_train.astype('float32')\n",
        "y_test=y_test.astype('float32')"
      ]
    },
    {
      "cell_type": "markdown",
      "metadata": {
        "id": "OtII-tPgFRI2"
      },
      "source": [
        "## Encoder & End-To-End Netwrok"
      ]
    },
    {
      "cell_type": "code",
      "execution_count": null,
      "metadata": {
        "id": "jPMiMBJbbpak"
      },
      "outputs": [],
      "source": [
        "from keras.layers.merge import concatenate \n",
        "label_input = Input(shape=(10,))\n",
        "li = Dense(28*28*1)(label_input)\n",
        "li = Reshape((28,28,1))(li)\n",
        "\n",
        "image_input = Input(shape=(28,28,1))\n",
        "\n",
        "network_input = concatenate([image_input,li])\n",
        "\n",
        "encoder = Conv2D(16, (4,4),strides=(2,2),activation='relu',kernel_initializer='he_uniform',  padding='same')(network_input)\n",
        "encoder = Conv2D(32, (4,4),strides=(2,2),activation='relu',kernel_initializer='he_uniform',  padding='same')(encoder)\n",
        "#encoder = Conv2D(64, (4, 4),activation='relu',kernel_initializer='he_uniform',  padding='same')(encoder)\n",
        "\n",
        "encoder = Conv2D(64, (4,4),activation='relu',kernel_initializer='he_uniform',  padding='same')(encoder)\n",
        "\n",
        "encoder = Flatten()(encoder)\n",
        "encoder = Dense(32 , activation='relu')(encoder)\n",
        "\n",
        "mu_e = Dense(2)(encoder) # 2 is the latent space dimension\n",
        "var_e = Dense(2)(encoder)\n",
        "\n",
        "z = Lambda(sample,output_shape=(2,))([mu_e,var_e])\n",
        "decoder_input = concatenate([z, label_input])\n",
        "\n",
        "decoder_h1 = Dense(7*7*128,activation='relu')\n",
        "decoder_h2 = Reshape((7,7,128))\n",
        "\n",
        "decoder_h3 = Conv2DTranspose(64,(4,4),activation='relu',strides=(2,2),kernel_initializer='he_uniform',padding='same')\n",
        "#decoder =Conv2DTranspose(64,(4, 4),activation='relu',strides=(2,2),kernel_initializer='he_uniform',padding='same')(decoder)\n",
        "decoder_h4 =Conv2DTranspose(32,(4,4),strides=(2,2),activation='relu',kernel_initializer='he_uniform',padding='same')\n",
        "decoder_h5 =Conv2DTranspose(16,(4,4),activation='relu',kernel_initializer='he_uniform',padding='same')\n",
        "decoder_h6  = Conv2DTranspose(1,(4,4),activation='relu',kernel_initializer='he_uniform',padding='same')\n",
        "\n",
        "h = decoder_h1(decoder_input)\n",
        "h = decoder_h2(h)\n",
        "h = decoder_h3(h)\n",
        "h = decoder_h4(h)\n",
        "h = decoder_h5(h)\n",
        "out = decoder_h6(h)\n",
        "\n",
        "\n",
        "encoder_network = Model([image_input,label_input],z)\n",
        "cvae = Model([image_input,label_input],out)\n"
      ]
    },
    {
      "cell_type": "markdown",
      "metadata": {
        "id": "4U2iJ0jCFaNb"
      },
      "source": [
        "## Decoder Network"
      ]
    },
    {
      "cell_type": "code",
      "execution_count": null,
      "metadata": {
        "id": "eTOBHMK1008s"
      },
      "outputs": [],
      "source": [
        "decoder_in = Input(shape=(12,))\n",
        "d_1 = decoder_h1(decoder_in)\n",
        "d_1 = decoder_h2(d_1)\n",
        "d_1 = decoder_h3(d_1)\n",
        "d_1 = decoder_h4(d_1)\n",
        "d_1 = decoder_h5(d_1)\n",
        "decoder_out = decoder_h6(d_1)\n",
        "decoder_network = Model(decoder_in,decoder_out)"
      ]
    },
    {
      "cell_type": "markdown",
      "metadata": {
        "id": "3fp7erAuGDMu"
      },
      "source": [
        "## Network Summary"
      ]
    },
    {
      "cell_type": "code",
      "execution_count": null,
      "metadata": {
        "colab": {
          "base_uri": "https://localhost:8080/"
        },
        "id": "BUGMWBE73BPr",
        "outputId": "05eaf72e-8c33-4844-b868-da34bedd003a"
      },
      "outputs": [],
      "source": [
        "decoder_network.summary()"
      ]
    },
    {
      "cell_type": "code",
      "execution_count": null,
      "metadata": {
        "colab": {
          "base_uri": "https://localhost:8080/"
        },
        "id": "XvjOIzMpkhbw",
        "outputId": "0364a6eb-54e3-4f9d-8f57-c0e541d986d3"
      },
      "outputs": [],
      "source": [
        "encoder_network.summary()"
      ]
    },
    {
      "cell_type": "code",
      "execution_count": null,
      "metadata": {
        "colab": {
          "base_uri": "https://localhost:8080/"
        },
        "id": "tJki4BlDpOXV",
        "outputId": "38456c84-6878-4cfb-8ab1-78d8742e555a"
      },
      "outputs": [],
      "source": [
        "cvae.summary()"
      ]
    },
    {
      "attachments": {},
      "cell_type": "markdown",
      "metadata": {},
      "source": [
        "## Training"
      ]
    },
    {
      "cell_type": "code",
      "execution_count": null,
      "metadata": {
        "id": "Ydn-XH0_qqGt"
      },
      "outputs": [],
      "source": [
        "opt = Adam(lr = 0.0002,beta_1=0.5)\n",
        "cvae.compile(loss=network_loss(mu_e, var_e), optimizer=opt)"
      ]
    },
    {
      "cell_type": "code",
      "execution_count": null,
      "metadata": {
        "colab": {
          "base_uri": "https://localhost:8080/"
        },
        "id": "ICkMiUrHq3Nd",
        "outputId": "21a7350c-c05d-4c97-b0a8-57bbf7f44fc5"
      },
      "outputs": [],
      "source": [
        "cvae_history = cvae.fit([x_train,y_train], x_train, epochs=50, batch_size=64, validation_split = 0.2)"
      ]
    },
    {
      "cell_type": "code",
      "execution_count": null,
      "metadata": {
        "colab": {
          "base_uri": "https://localhost:8080/",
          "height": 279
        },
        "id": "enpoxHd8rUuU",
        "outputId": "c8994a25-edb6-47e5-ad77-a4f91a57c68c"
      },
      "outputs": [],
      "source": [
        "plot_loss(cvae_history)"
      ]
    },
    {
      "cell_type": "code",
      "execution_count": null,
      "metadata": {
        "colab": {
          "base_uri": "https://localhost:8080/",
          "height": 1000
        },
        "id": "QspJa5kJZNcC",
        "outputId": "8ad43d7e-ee72-4040-ac08-3f11e8cd19fc"
      },
      "outputs": [],
      "source": [
        "for j in range(6):\n",
        "  output = cvae.predict([x_test, y_test])\n",
        "  for i in range(9):\n",
        "    plt.subplot(331+i)\n",
        "    outt = output[i+500]\n",
        "    op_image = np.reshape(outt*255, (28, 28))\n",
        "    plt.imshow(op_image, cmap='gray')\n",
        "    plt.title(j*10)\n",
        "  plt.show()\n",
        "  histoy = cvae.fit([x_train,y_train], x_train, epochs=10, batch_size=64, validation_split = 0.2) # استفاده از این بخش برای ترسیم خروجی دیکودر در هر 10 ایپاک"
      ]
    },
    {
      "cell_type": "markdown",
      "metadata": {
        "id": "UY1OmqbbGeZu"
      },
      "source": [
        "## Scatter plot"
      ]
    },
    {
      "cell_type": "code",
      "execution_count": null,
      "metadata": {
        "colab": {
          "base_uri": "https://localhost:8080/",
          "height": 551
        },
        "id": "Ez6es0Adob8C",
        "outputId": "13b09ee5-ffb2-481b-83fb-d3b4832ea89c"
      },
      "outputs": [],
      "source": [
        "import pandas as pd\n",
        "import seaborn as sns\n",
        "latent_space = encoder_network.predict([x_test, y_test])  \n",
        "latent_space = latent_space.reshape(x_test.shape[0], 2)\n",
        "x = latent_space[:, 0]\n",
        "y = latent_space[:, 1]\n",
        "z_z = []\n",
        "for i in range(100*100):\n",
        "  z_z.append(y_test2[i]) #Real number coressponding to the input\n",
        "zz = []\n",
        "for j in z_z:\n",
        "  zz.append(str(j))\n",
        "datam = pd.DataFrame()\n",
        "datam['x'] = x\n",
        "datam['y'] = y\n",
        "datam['z'] = zz\n",
        "plt.figure(figsize=(8,8))\n",
        "sns.scatterplot(x='x', y='y', hue='z', data=datam)\n",
        "plt.show()"
      ]
    },
    {
      "cell_type": "markdown",
      "metadata": {
        "id": "NZfWLO9gGhZ9"
      },
      "source": [
        "## Network Output"
      ]
    },
    {
      "cell_type": "code",
      "execution_count": null,
      "metadata": {
        "colab": {
          "base_uri": "https://localhost:8080/",
          "height": 867
        },
        "id": "4j89YlILVCrO",
        "outputId": "f662edd7-6478-44d2-9a78-14f1871e9f6a"
      },
      "outputs": [],
      "source": [
        "number = 4\n",
        "x_values = np.linspace(-3, 3, 30)\n",
        "y_values = np.linspace(-3, 3, 30)\n",
        "finalimg = np.zeros((28 * 30, 28 * 30))\n",
        "c = np.zeros(12)\n",
        "c[2+number] =1 \n",
        "for ix in range(len(x_values)):\n",
        "  for iy in range(len(y_values)):\n",
        "    latent_point = np.array([x_values[ix], y_values[iy]])\n",
        "    for jj in range(len(latent_point)):\n",
        "      c[jj] = latent_point[jj]\n",
        "    network_out = decoder_network.predict(np.array([c]))[0]\n",
        "    finalimg[ix*28:(ix+1)*28, iy*28:(iy+1)*28,] = network_out[:,:,-1]\n",
        "plt.figure(figsize=(15, 15))\n",
        "plt.imshow(finalimg, cmap='gray', extent=[3,-3,3,-3])\n",
        "plt.show()"
      ]
    }
  ],
  "metadata": {
    "accelerator": "GPU",
    "colab": {
      "collapsed_sections": [
        "tTsTTEHuqS4M",
        "6JRuMjsvrRpE",
        "jWS4g-vArZGK",
        "GFv3zOCB-xm7",
        "-NDdeIIACjZl",
        "XtcyMaIPA4YM",
        "o63k3-YWA9u8",
        "AzOurAnqDGcC",
        "JhTyr7jBDQiU",
        "v5TSjnICDavh",
        "SqP3VrAoqHkd",
        "OtII-tPgFRI2",
        "4U2iJ0jCFaNb",
        "3fp7erAuGDMu",
        "k5aW7rFtGGtQ",
        "UY1OmqbbGeZu",
        "NZfWLO9gGhZ9"
      ],
      "name": "Q1MP3.ipynb",
      "provenance": []
    },
    "kernelspec": {
      "display_name": "DRL101",
      "language": "python",
      "name": "python3"
    },
    "language_info": {
      "codemirror_mode": {
        "name": "ipython",
        "version": 3
      },
      "file_extension": ".py",
      "mimetype": "text/x-python",
      "name": "python",
      "nbconvert_exporter": "python",
      "pygments_lexer": "ipython3",
      "version": "3.12.4"
    },
    "vscode": {
      "interpreter": {
        "hash": "e86b09bf04b4b28f13f8ff5e5d79a92a454be138b2dde21e7db36bb9d1dc0d8c"
      }
    }
  },
  "nbformat": 4,
  "nbformat_minor": 0
}
